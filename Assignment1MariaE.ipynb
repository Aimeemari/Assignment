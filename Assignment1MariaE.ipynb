{
 "cells": [
  {
   "cell_type": "markdown",
   "metadata": {},
   "source": [
    "LOADING ALL NECESSARY LIBRARIES BELOW TO BEGIN"
   ]
  },
  {
   "cell_type": "code",
   "execution_count": 1,
   "metadata": {},
   "outputs": [],
   "source": [
    "import thinkplot\n",
    "import thinkstats2\n",
    "import pandas as pd\n",
    "import numpy as np\n",
    "import matplotlib.pyplot as plt\n",
    "import seaborn as sns\n",
    "import scipy.stats as ss"
   ]
  },
  {
   "cell_type": "markdown",
   "metadata": {},
   "source": [
    "LOADING DATA & CHECKING OUT WHAT IT CONTAINS"
   ]
  },
  {
   "cell_type": "code",
   "execution_count": 2,
   "metadata": {},
   "outputs": [
    {
     "data": {
      "text/html": [
       "<div>\n",
       "<style scoped>\n",
       "    .dataframe tbody tr th:only-of-type {\n",
       "        vertical-align: middle;\n",
       "    }\n",
       "\n",
       "    .dataframe tbody tr th {\n",
       "        vertical-align: top;\n",
       "    }\n",
       "\n",
       "    .dataframe thead th {\n",
       "        text-align: right;\n",
       "    }\n",
       "</style>\n",
       "<table border=\"1\" class=\"dataframe\">\n",
       "  <thead>\n",
       "    <tr style=\"text-align: right;\">\n",
       "      <th></th>\n",
       "      <th>Age</th>\n",
       "      <th>Eduacation</th>\n",
       "      <th>Race</th>\n",
       "      <th>Hisp</th>\n",
       "      <th>MaritalStatus</th>\n",
       "      <th>Nodeg</th>\n",
       "      <th>Earnings_1974</th>\n",
       "      <th>Earnings_1975</th>\n",
       "      <th>Earnings_1978</th>\n",
       "    </tr>\n",
       "  </thead>\n",
       "  <tbody>\n",
       "    <tr>\n",
       "      <th>0</th>\n",
       "      <td>45</td>\n",
       "      <td>LessThanHighSchool</td>\n",
       "      <td>NotBlack</td>\n",
       "      <td>NotHispanic</td>\n",
       "      <td>Married</td>\n",
       "      <td>1</td>\n",
       "      <td>21516.670</td>\n",
       "      <td>25243.550</td>\n",
       "      <td>25564.670</td>\n",
       "    </tr>\n",
       "    <tr>\n",
       "      <th>1</th>\n",
       "      <td>21</td>\n",
       "      <td>Intermediate</td>\n",
       "      <td>NotBlack</td>\n",
       "      <td>NotHispanic</td>\n",
       "      <td>NotMarried</td>\n",
       "      <td>0</td>\n",
       "      <td>3175.971</td>\n",
       "      <td>5852.565</td>\n",
       "      <td>13496.080</td>\n",
       "    </tr>\n",
       "    <tr>\n",
       "      <th>2</th>\n",
       "      <td>38</td>\n",
       "      <td>HighSchool</td>\n",
       "      <td>NotBlack</td>\n",
       "      <td>NotHispanic</td>\n",
       "      <td>Married</td>\n",
       "      <td>0</td>\n",
       "      <td>23039.020</td>\n",
       "      <td>25130.760</td>\n",
       "      <td>25564.670</td>\n",
       "    </tr>\n",
       "    <tr>\n",
       "      <th>3</th>\n",
       "      <td>48</td>\n",
       "      <td>LessThanHighSchool</td>\n",
       "      <td>NotBlack</td>\n",
       "      <td>NotHispanic</td>\n",
       "      <td>Married</td>\n",
       "      <td>1</td>\n",
       "      <td>24994.370</td>\n",
       "      <td>25243.550</td>\n",
       "      <td>25564.670</td>\n",
       "    </tr>\n",
       "    <tr>\n",
       "      <th>4</th>\n",
       "      <td>18</td>\n",
       "      <td>LessThanHighSchool</td>\n",
       "      <td>NotBlack</td>\n",
       "      <td>NotHispanic</td>\n",
       "      <td>Married</td>\n",
       "      <td>1</td>\n",
       "      <td>1669.295</td>\n",
       "      <td>10727.610</td>\n",
       "      <td>9860.869</td>\n",
       "    </tr>\n",
       "  </tbody>\n",
       "</table>\n",
       "</div>"
      ],
      "text/plain": [
       "   Age          Eduacation      Race         Hisp MaritalStatus  Nodeg  \\\n",
       "0   45  LessThanHighSchool  NotBlack  NotHispanic       Married      1   \n",
       "1   21        Intermediate  NotBlack  NotHispanic    NotMarried      0   \n",
       "2   38          HighSchool  NotBlack  NotHispanic       Married      0   \n",
       "3   48  LessThanHighSchool  NotBlack  NotHispanic       Married      1   \n",
       "4   18  LessThanHighSchool  NotBlack  NotHispanic       Married      1   \n",
       "\n",
       "   Earnings_1974  Earnings_1975  Earnings_1978  \n",
       "0      21516.670      25243.550      25564.670  \n",
       "1       3175.971       5852.565      13496.080  \n",
       "2      23039.020      25130.760      25564.670  \n",
       "3      24994.370      25243.550      25564.670  \n",
       "4       1669.295      10727.610       9860.869  "
      ]
     },
     "execution_count": 2,
     "metadata": {},
     "output_type": "execute_result"
    }
   ],
   "source": [
    "df = pd.read_csv(\"LabourTrainingEvaluationData.csv\")\n",
    "df.head()\n"
   ]
  },
  {
   "cell_type": "code",
   "execution_count": 3,
   "metadata": {},
   "outputs": [
    {
     "name": "stdout",
     "output_type": "stream",
     "text": [
      "<class 'pandas.core.frame.DataFrame'>\n",
      "RangeIndex: 15992 entries, 0 to 15991\n",
      "Data columns (total 9 columns):\n",
      " #   Column         Non-Null Count  Dtype  \n",
      "---  ------         --------------  -----  \n",
      " 0   Age            15992 non-null  int64  \n",
      " 1   Eduacation     15992 non-null  object \n",
      " 2   Race           15992 non-null  object \n",
      " 3   Hisp           15992 non-null  object \n",
      " 4   MaritalStatus  15992 non-null  object \n",
      " 5   Nodeg          15992 non-null  int64  \n",
      " 6   Earnings_1974  15992 non-null  float64\n",
      " 7   Earnings_1975  15992 non-null  float64\n",
      " 8   Earnings_1978  15992 non-null  float64\n",
      "dtypes: float64(3), int64(2), object(4)\n",
      "memory usage: 1.1+ MB\n"
     ]
    }
   ],
   "source": [
    "df.info()"
   ]
  },
  {
   "cell_type": "code",
   "execution_count": 4,
   "metadata": {},
   "outputs": [
    {
     "data": {
      "text/html": [
       "<div>\n",
       "<style scoped>\n",
       "    .dataframe tbody tr th:only-of-type {\n",
       "        vertical-align: middle;\n",
       "    }\n",
       "\n",
       "    .dataframe tbody tr th {\n",
       "        vertical-align: top;\n",
       "    }\n",
       "\n",
       "    .dataframe thead th {\n",
       "        text-align: right;\n",
       "    }\n",
       "</style>\n",
       "<table border=\"1\" class=\"dataframe\">\n",
       "  <thead>\n",
       "    <tr style=\"text-align: right;\">\n",
       "      <th></th>\n",
       "      <th>Age</th>\n",
       "      <th>Nodeg</th>\n",
       "      <th>Earnings_1974</th>\n",
       "      <th>Earnings_1975</th>\n",
       "      <th>Earnings_1978</th>\n",
       "    </tr>\n",
       "  </thead>\n",
       "  <tbody>\n",
       "    <tr>\n",
       "      <th>count</th>\n",
       "      <td>15992.000000</td>\n",
       "      <td>15992.000000</td>\n",
       "      <td>15992.000000</td>\n",
       "      <td>15992.000000</td>\n",
       "      <td>15992.000000</td>\n",
       "    </tr>\n",
       "    <tr>\n",
       "      <th>mean</th>\n",
       "      <td>33.225238</td>\n",
       "      <td>0.295835</td>\n",
       "      <td>14016.800304</td>\n",
       "      <td>13650.803376</td>\n",
       "      <td>14846.659673</td>\n",
       "    </tr>\n",
       "    <tr>\n",
       "      <th>std</th>\n",
       "      <td>11.045216</td>\n",
       "      <td>0.456432</td>\n",
       "      <td>9569.795893</td>\n",
       "      <td>9270.403225</td>\n",
       "      <td>9647.391524</td>\n",
       "    </tr>\n",
       "    <tr>\n",
       "      <th>min</th>\n",
       "      <td>16.000000</td>\n",
       "      <td>0.000000</td>\n",
       "      <td>0.000000</td>\n",
       "      <td>0.000000</td>\n",
       "      <td>0.000000</td>\n",
       "    </tr>\n",
       "    <tr>\n",
       "      <th>25%</th>\n",
       "      <td>24.000000</td>\n",
       "      <td>0.000000</td>\n",
       "      <td>4403.452250</td>\n",
       "      <td>4398.823000</td>\n",
       "      <td>5669.298000</td>\n",
       "    </tr>\n",
       "    <tr>\n",
       "      <th>50%</th>\n",
       "      <td>31.000000</td>\n",
       "      <td>0.000000</td>\n",
       "      <td>15123.580000</td>\n",
       "      <td>14557.110000</td>\n",
       "      <td>16421.975000</td>\n",
       "    </tr>\n",
       "    <tr>\n",
       "      <th>75%</th>\n",
       "      <td>42.000000</td>\n",
       "      <td>1.000000</td>\n",
       "      <td>23584.180000</td>\n",
       "      <td>22923.737500</td>\n",
       "      <td>25564.670000</td>\n",
       "    </tr>\n",
       "    <tr>\n",
       "      <th>max</th>\n",
       "      <td>55.000000</td>\n",
       "      <td>1.000000</td>\n",
       "      <td>25862.320000</td>\n",
       "      <td>25243.550000</td>\n",
       "      <td>25564.670000</td>\n",
       "    </tr>\n",
       "  </tbody>\n",
       "</table>\n",
       "</div>"
      ],
      "text/plain": [
       "                Age         Nodeg  Earnings_1974  Earnings_1975  Earnings_1978\n",
       "count  15992.000000  15992.000000   15992.000000   15992.000000   15992.000000\n",
       "mean      33.225238      0.295835   14016.800304   13650.803376   14846.659673\n",
       "std       11.045216      0.456432    9569.795893    9270.403225    9647.391524\n",
       "min       16.000000      0.000000       0.000000       0.000000       0.000000\n",
       "25%       24.000000      0.000000    4403.452250    4398.823000    5669.298000\n",
       "50%       31.000000      0.000000   15123.580000   14557.110000   16421.975000\n",
       "75%       42.000000      1.000000   23584.180000   22923.737500   25564.670000\n",
       "max       55.000000      1.000000   25862.320000   25243.550000   25564.670000"
      ]
     },
     "execution_count": 4,
     "metadata": {},
     "output_type": "execute_result"
    }
   ],
   "source": [
    "#Summary Statistics\n",
    "df.describe()"
   ]
  },
  {
   "cell_type": "markdown",
   "metadata": {},
   "source": [
    "TASK 1 - AGE\n",
    "\n",
    "o\tPlot of Hist and Pmf for age below.\n",
    "o\tComputation of the fraction of people that are 51 years old\n",
    "o   Computation of the fraction of people that are older than 51 years\n",
    "o\tMedian age calculated \n",
    "INFERENCE:\n",
    "Yes, the distribution of the sample data mirrors the working age population. We can see that the minimum age is 16 years and there was no earning recorded for people of that age. at the 25th percentile and below, there also a very low record of earning. most of the working people fall in the 50th percentile and above. so the data is more representative of people who are working. "
   ]
  },
  {
   "cell_type": "code",
   "execution_count": 5,
   "metadata": {},
   "outputs": [],
   "source": [
    "#For Age - Making Histogram and Pmf objects\n",
    "histo = thinkstats2.Hist(round(df[\"Age\"],0), label=\"Age\")\n",
    "pmf = thinkstats2.Pmf(round(df[\"Age\"], 0), label=\"Age\")"
   ]
  },
  {
   "cell_type": "code",
   "execution_count": 6,
   "metadata": {},
   "outputs": [
    {
     "data": {
      "image/png": "[encoded data removed]",
      "text/plain": [
       "<Figure size 864x432 with 2 Axes>"
      ]
     },
     "metadata": {
      "needs_background": "light"
     },
     "output_type": "display_data"
    }
   ],
   "source": [
    "#Plotting the Histogram and pmf graphs below\n",
    "thinkplot.PrePlot(2, cols=2)\n",
    "thinkplot.Hist(histo)\n",
    "thinkplot.Config(xlabel=\"Age\", ylabel=\"count\")\n",
    "thinkplot.SubPlot(2)\n",
    "thinkplot.Pmf(pmf)\n",
    "thinkplot.Config(xlabel=\"Age\", ylabel=\"count\")"
   ]
  },
  {
   "cell_type": "code",
   "execution_count": 64,
   "metadata": {},
   "outputs": [
    {
     "name": "stdout",
     "output_type": "stream",
     "text": [
      "0.01963481740870435\n"
     ]
    }
   ],
   "source": [
    "# Calculating the fraction of the people that are 51\n",
    "count = 0.0\n",
    "for i in df[\"Age\"]:\n",
    "    if i == 51:\n",
    "        count += 1\n",
    "frac = count / len(df[\"Age\"])\n",
    "print(frac)\n"
   ]
  },
  {
   "cell_type": "code",
   "execution_count": 62,
   "metadata": {},
   "outputs": [
    {
     "name": "stdout",
     "output_type": "stream",
     "text": [
      "0.09285892946473237\n"
     ]
    }
   ],
   "source": [
    "# Calculating the fraction older than 51?\n",
    "count = 0.0\n",
    "for i in df[\"Age\"]:\n",
    "    if i >= 51:\n",
    "        count += 1\n",
    "frac = count / len(df[\"Age\"])\n",
    "print(frac)\n"
   ]
  },
  {
   "cell_type": "code",
   "execution_count": 7,
   "metadata": {},
   "outputs": [
    {
     "data": {
      "text/plain": [
       "31.0"
      ]
     },
     "execution_count": 7,
     "metadata": {},
     "output_type": "execute_result"
    }
   ],
   "source": [
    "#calculating the median age\n",
    "df[\"Age\"].median()"
   ]
  },
  {
   "cell_type": "markdown",
   "metadata": {},
   "source": [
    "TASK 2 - DEMOGRAPHICS\n",
    "\n",
    "INFERENCE: \n",
    "\n",
    "In comparison with the information on wikepedia about the dermographic of the USA, I would say that this data is a true representation of the US population. The figures are not exact but the distribution is similar. \n",
    "\n",
    "# citing some figures\n",
    "non black/black percentage of the US population from wikepedia is 87.3/12.7 vs 92.7/7.2 from this data\n",
    "non Hispanic/Hispanic percentage of the US population from wikepedia is 82.4/17.6 vs 93/7.2 from this data\n",
    "\n",
    "below is the computation that led to my findings."
   ]
  },
  {
   "cell_type": "code",
   "execution_count": 8,
   "metadata": {},
   "outputs": [
    {
     "name": "stdout",
     "output_type": "stream",
     "text": [
      "HighSchool            0.390945\n",
      "LessThanHighSchool    0.295835\n",
      "Intermediate          0.169335\n",
      "graduate              0.085480\n",
      "PostGraduate          0.058404\n",
      "Name: Eduacation, dtype: float64\n",
      "NotBlack    0.926463\n",
      "black       0.073537\n",
      "Name: Race, dtype: float64\n",
      "NotHispanic    0.927964\n",
      "hispanic       0.072036\n",
      "Name: Hisp, dtype: float64\n",
      "Married       0.711731\n",
      "NotMarried    0.288269\n",
      "Name: MaritalStatus, dtype: float64\n",
      "0    0.704165\n",
      "1    0.295835\n",
      "Name: Nodeg, dtype: float64\n"
     ]
    }
   ],
   "source": [
    "# Taking a look at the breakdown by percentages \n",
    "# for each unique value in the columns Education, Race, Hisp, Marital status, Nodeg\n",
    "\n",
    "print(df.Eduacation.value_counts(1))\n",
    "print(df.Race.value_counts(1))\n",
    "print(df.Hisp.value_counts(1))\n",
    "print(df.MaritalStatus.value_counts(1))\n",
    "print(df.Nodeg.value_counts(1))\n"
   ]
  },
  {
   "cell_type": "markdown",
   "metadata": {},
   "source": [
    "TASK 3 - EARNINGS\n",
    "\n",
    "A graph of my choosing  -  CDF\n",
    "\n",
    "INFERENCE:\n",
    "From the graph, is shows that Income pretty much stayed the same between 1974 and 1975 with a slight drop in 1978. Also, more people earned higher pay than lower pay and this was common accross all three years. "
   ]
  },
  {
   "cell_type": "code",
   "execution_count": 9,
   "metadata": {},
   "outputs": [],
   "source": [
    "#creating objects for my cdf graphs\n",
    "cdf = thinkstats2.Cdf(round(df[\"Earnings_1974\"], 0), label=\"Earnings1974\")\n",
    "cdf1 = thinkstats2.Cdf(round(df[\"Earnings_1975\"], 0), label=\"Earnings1975\")\n",
    "cdf2 = thinkstats2.Cdf(round(df[\"Earnings_1978\"], 0), label=\"Earnings1978\")\n"
   ]
  },
  {
   "cell_type": "code",
   "execution_count": 10,
   "metadata": {},
   "outputs": [
    {
     "data": {
      "text/plain": [
       "{'xscale': 'linear', 'yscale': 'linear'}"
      ]
     },
     "execution_count": 10,
     "metadata": {},
     "output_type": "execute_result"
    },
    {
     "data": {
      "image/png": "[encoded data removed]",
      "text/plain": [
       "<Figure size 432x288 with 1 Axes>"
      ]
     },
     "metadata": {
      "needs_background": "light"
     },
     "output_type": "display_data"
    }
   ],
   "source": [
    "#ploting the cdf graph below\n",
    "thinkplot.cdf(cdf, color = \"red\")\n",
    "thinkplot.cdf(cdf1, color = \"blue\")\n",
    "thinkplot.cdf(cdf2, color = \"green\")\n",
    "\n"
   ]
  },
  {
   "cell_type": "markdown",
   "metadata": {},
   "source": [
    "MARITAL STATUS has the greatest effect size on the earning in 1978. \n",
    "below is an evaluation of the effect size of all four (Hispanic. Race, MaritalStatus and Node) on the earnings in 1978 using the cohen effect size computation."
   ]
  },
  {
   "cell_type": "code",
   "execution_count": 18,
   "metadata": {},
   "outputs": [],
   "source": [
    "#slicing the data into groups for use in comparison with the cohen effect size computation\n",
    "hisp = df[df[\"Hisp\"] == \"Hispanic\"]\n",
    "nohisp = df[df[\"Hisp\"] == \"NotHispanic\"]\n",
    "race = df[df[\"Race\"] == \"Black\"]\n",
    "norace = df[df[\"Race\"] == \"NotBlack\"]\n",
    "marit = df[df[\"MaritalStatus\"] == \"Married\"]\n",
    "nomarit = df[df[\"MaritalStatus\"] == \"NotMarried\"]\n",
    "nodg = df[df[\"Nodeg\"] == 1]\n",
    "dg = df[df[\"Nodeg\"] == 0]"
   ]
  },
  {
   "cell_type": "code",
   "execution_count": 12,
   "metadata": {},
   "outputs": [],
   "source": [
    "\n",
    "def CohenEffectSize(group1, group2):\n",
    "    \"\"\"Computes Cohen's effect size for two groups.\n",
    "    \n",
    "    group1: Series or DataFrame\n",
    "    group2: Series or DataFrame\n",
    "    \n",
    "    returns: float if the arguments are Series;\n",
    "             Series if the arguments are DataFrames\n",
    "    \"\"\"\n",
    "    diff = group1.mean() - group2.mean()\n",
    "\n",
    "    var1 = group1.var()\n",
    "    var2 = group2.var()\n",
    "    n1, n2 = len(group1), len(group2)\n",
    "\n",
    "    pooled_var = (n1 * var1 + n2 * var2) / (n1 + n2)\n",
    "    d = diff / np.sqrt(pooled_var)\n",
    "    return d"
   ]
  },
  {
   "cell_type": "code",
   "execution_count": 19,
   "metadata": {},
   "outputs": [
    {
     "name": "stdout",
     "output_type": "stream",
     "text": [
      "nan\n",
      "nan\n",
      "0.5737396692403472\n",
      "-0.3367928897615812\n"
     ]
    }
   ],
   "source": [
    "#calculating the cohen effect size on Earning in 1978 for the different groups\n",
    "print(CohenEffectSize(hisp[\"Earnings_1978\"], nohisp[\"Earnings_1978\"]))\n",
    "print(CohenEffectSize(race[\"Earnings_1978\"], norace[\"Earnings_1978\"]))\n",
    "print(CohenEffectSize(marit[\"Earnings_1978\"], nomarit[\"Earnings_1978\"]))\n",
    "print(CohenEffectSize(nodg[\"Earnings_1978\"], dg[\"Earnings_1978\"]))"
   ]
  },
  {
   "cell_type": "markdown",
   "metadata": {},
   "source": [
    "TASK 4\n",
    "\n",
    "o\tPlot a histogram and PMF, and compute useful descriptive statistics for 1978 Earnings\n"
   ]
  },
  {
   "cell_type": "code",
   "execution_count": 46,
   "metadata": {},
   "outputs": [
    {
     "data": {
      "text/plain": [
       "count    15992.000000\n",
       "mean     14846.659673\n",
       "std       9647.391524\n",
       "min          0.000000\n",
       "25%       5669.298000\n",
       "50%      16421.975000\n",
       "75%      25564.670000\n",
       "max      25564.670000\n",
       "Name: Earnings_1978, dtype: float64"
      ]
     },
     "execution_count": 46,
     "metadata": {},
     "output_type": "execute_result"
    }
   ],
   "source": [
    "#slicing the Earnings_1978 column and computing summary statistics\n",
    "dfE = df[\"Earnings_1978\"]\n",
    "dfE.describe()"
   ]
  },
  {
   "cell_type": "code",
   "execution_count": 21,
   "metadata": {},
   "outputs": [],
   "source": [
    "#For 1978 Earnings - Making Histogram and Pmf objects\n",
    "histE = thinkstats2.Hist(round(df[\"Earnings_1978\"],0), label=\"Earnings1978\")\n",
    "pmfE = thinkstats2.Pmf(round(df[\"Earnings_1978\"], 0), label=\"Earnings1978\")"
   ]
  },
  {
   "cell_type": "code",
   "execution_count": 39,
   "metadata": {},
   "outputs": [
    {
     "name": "stderr",
     "output_type": "stream",
     "text": [
      "C:\\Users\\Learning\\anaconda3\\lib\\site-packages\\seaborn\\distributions.py:2557: FutureWarning: `distplot` is a deprecated function and will be removed in a future version. Please adapt your code to use either `displot` (a figure-level function with similar flexibility) or `histplot` (an axes-level function for histograms).\n",
      "  warnings.warn(msg, FutureWarning)\n"
     ]
    },
    {
     "data": {
      "text/plain": [
       "<AxesSubplot:xlabel='Earnings_1978', ylabel='Density'>"
      ]
     },
     "execution_count": 39,
     "metadata": {},
     "output_type": "execute_result"
    },
    {
     "data": {
      "image/png": "[encoded data removed]",
      "text/plain": [
       "<Figure size 432x288 with 1 Axes>"
      ]
     },
     "metadata": {
      "needs_background": "light"
     },
     "output_type": "display_data"
    }
   ],
   "source": [
    "sns.distplot(df[\"Earnings_1978\"])"
   ]
  },
  {
   "cell_type": "code",
   "execution_count": 35,
   "metadata": {},
   "outputs": [
    {
     "data": {
      "image/png": "[encoded data removed]",
      "text/plain": [
       "<Figure size 864x432 with 2 Axes>"
      ]
     },
     "metadata": {
      "needs_background": "light"
     },
     "output_type": "display_data"
    }
   ],
   "source": [
    "#Plotting the Histogram and pmf graphs below\n",
    "thinkplot.PrePlot(2, cols=2)\n",
    "thinkplot.Hist(histE)\n",
    "thinkplot.Config(xlabel=\"Earnings\", ylabel=\"count\")\n",
    "thinkplot.Config(xlim=[0, 26000], ylim=[0, 12])\n",
    "thinkplot.SubPlot(2)\n",
    "thinkplot.Pmf(pmfE)\n",
    "thinkplot.Config(xlabel=\"Earnings\", ylabel=\"count\")\n"
   ]
  },
  {
   "cell_type": "code",
   "execution_count": null,
   "metadata": {},
   "outputs": [],
   "source": []
  }
 ],
 "metadata": {
  "interpreter": {
   "hash": "d4200a0751603e464bc6a445feef877195bc9b14f544af33a9b544a4829f751e"
  },
  "kernelspec": {
   "display_name": "Python 3.8.8 64-bit ('base': conda)",
   "name": "python3"
  },
  "language_info": {
   "codemirror_mode": {
    "name": "ipython",
    "version": 3
   },
   "file_extension": ".py",
   "mimetype": "text/x-python",
   "name": "python",
   "nbconvert_exporter": "python",
   "pygments_lexer": "ipython3",
   "version": "3.8.8"
  },
  "orig_nbformat": 4
 },
 "nbformat": 4,
 "nbformat_minor": 2
}
